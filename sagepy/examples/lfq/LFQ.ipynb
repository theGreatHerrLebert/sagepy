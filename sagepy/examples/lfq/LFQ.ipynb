{
 "cells": [
  {
   "cell_type": "markdown",
   "id": "f401174e-8b31-471c-a35d-7d720c5f544d",
   "metadata": {},
   "source": [
    "## dda-PASEF LFQ with Ion Mobility\n",
    "\n",
    "SAGE now supports a new LFQ mode that incorporates the ion mobility dimension of timsTOF data. This notebook demonstrates the full LFQ workflow, using the imspy package to handle raw data extraction and preprocessing. The LFQ logic is now functional and integrated with SAGE’s internal components for retention time and ion mobility modeling. The complete workflow consists of the following steps:\n",
    "\n",
    "* Reading raw data from timsTOF .d folders using imspy.\n",
    "* Extracting MS1 and MS2 spectra from precursor and fragment frames.\n",
    "* Performing an initial database search with SAGE.\n",
    "* Calculating q-values to filter confident peptide-spectrum matches (PSMs).\n",
    "* Fitting and predicting retention time and ion mobility using SAGE’s built-in modeling tools.\n",
    "* Aligning retention time across runs for cross-sample comparison.\n",
    "* Creating feature maps for label-free quantification (LFQ) based on aligned peptide features.\n",
    "* Running LFQ with SAGE internals, leveraging predicted RT and mobility values.\n",
    "* Exporting results to a Pandas DataFrame for downstream statistical analysis or visualization."
   ]
  },
  {
   "cell_type": "markdown",
   "id": "df3135ed-fa88-49b1-a565-38cd6d9e5c2e",
   "metadata": {},
   "source": [
    "## Create A SAGE database"
   ]
  },
  {
   "cell_type": "code",
   "execution_count": 1,
   "id": "47fbc1ee-44d0-45e9-92be-1e913b316cc1",
   "metadata": {},
   "outputs": [],
   "source": [
    "import numpy as np\n",
    "import pandas as pd\n",
    "\n",
    "from sagepy.utility import create_sage_database\n",
    "\n",
    "# create an in-mem database for scoring\n",
    "indexed_db = create_sage_database(\n",
    "    fasta_path='/media/hd02/data/fasta/hela/plain/hela.fasta'\n",
    ")"
   ]
  },
  {
   "cell_type": "markdown",
   "id": "67167d72-0d1a-4ca6-98b4-f5dc1e7909d3",
   "metadata": {},
   "source": [
    "## Create a Scorer"
   ]
  },
  {
   "cell_type": "code",
   "execution_count": 4,
   "id": "feaa0265-9f10-4a58-84d2-e9e9bca83799",
   "metadata": {},
   "outputs": [],
   "source": [
    "from sagepy.core import Scorer, Tolerance\n",
    "\n",
    "# static modifications to apply to all amino acids\n",
    "static_mods = {\n",
    "    \"C\": \"[UNIMOD:4]\"\n",
    "}\n",
    "\n",
    "# variable modifications to consider\n",
    "variable_mods = {\n",
    "    \"M\": [\"[UNIMOD:1]\", \"[UNIMOD:35]\"], \n",
    "    \"[\": [\"[UNIMOD:1]\"]\n",
    "}\n",
    "\n",
    "# create a scorer object that can be used to search a database given a collection of spectra to search\n",
    "scorer = Scorer(\n",
    "    precursor_tolerance=Tolerance(ppm=(-15.0, 15.0)),\n",
    "    fragment_tolerance=Tolerance(ppm=(-10.0, 10.0)),\n",
    "    report_psms=5,\n",
    "    min_matched_peaks=5,\n",
    "    annotate_matches=True,\n",
    "    variable_mods=variable_mods,\n",
    "    static_mods=static_mods\n",
    ")"
   ]
  },
  {
   "cell_type": "markdown",
   "id": "18d2516c-0333-47a8-a217-9c8df518217b",
   "metadata": {},
   "source": [
    "## Extract MS1 and MS2 data from raw TDF files for PSM generation (MS2) and scoring (MS1)"
   ]
  },
  {
   "cell_type": "code",
   "execution_count": 5,
   "id": "58b5b2a0-4fab-476e-bea9-24a0c9178658",
   "metadata": {},
   "outputs": [
    {
     "name": "stderr",
     "output_type": "stream",
     "text": [
      "2025-05-09 16:58:02.395059: E external/local_xla/xla/stream_executor/cuda/cuda_dnn.cc:9261] Unable to register cuDNN factory: Attempting to register factory for plugin cuDNN when one has already been registered\n",
      "2025-05-09 16:58:02.395095: E external/local_xla/xla/stream_executor/cuda/cuda_fft.cc:607] Unable to register cuFFT factory: Attempting to register factory for plugin cuFFT when one has already been registered\n",
      "2025-05-09 16:58:02.396263: E external/local_xla/xla/stream_executor/cuda/cuda_blas.cc:1515] Unable to register cuBLAS factory: Attempting to register factory for plugin cuBLAS when one has already been registered\n",
      "2025-05-09 16:58:02.401435: I tensorflow/core/platform/cpu_feature_guard.cc:182] This TensorFlow binary is optimized to use available CPU instructions in performance-critical operations.\n",
      "To enable the following instructions: AVX2 FMA, in other operations, rebuild TensorFlow with the appropriate compiler flags.\n",
      "2025-05-09 16:58:03.036819: W tensorflow/compiler/tf2tensorrt/utils/py_utils.cc:38] TF-TRT Warning: Could not find TensorRT\n",
      "/home/administrator/Documents/promotion/rust/rustims/imspy/imspy/timstof/data.py:82: UserWarning: Warning: SDK free data read is still experimental, expect higher mass errors and inverse mobility errors.\n",
      "  warnings.warn(\"Warning: SDK free data read is still experimental, expect higher mass errors and inverse \"\n",
      "/home/administrator/Documents/promotion/rust/rustims/imspy/imspy/timstof/data.py:82: UserWarning: Warning: SDK free data read is still experimental, expect higher mass errors and inverse mobility errors.\n",
      "  warnings.warn(\"Warning: SDK free data read is still experimental, expect higher mass errors and inverse \"\n",
      "/home/administrator/Documents/promotion/rust/rustims/imspy/imspy/timstof/data.py:82: UserWarning: Warning: SDK free data read is still experimental, expect higher mass errors and inverse mobility errors.\n",
      "  warnings.warn(\"Warning: SDK free data read is still experimental, expect higher mass errors and inverse \"\n"
     ]
    }
   ],
   "source": [
    "from helpers import process_timstof_datasets, sage_quant_map_to_pandas\n",
    "\n",
    "# helper function for easier readbility\n",
    "results = process_timstof_datasets(\n",
    "    # number of precursor peaks to extract on data load\n",
    "    max_peaks = 50_000,\n",
    "    # number of precursor peaks to extract on creation of sage IMSpectra\n",
    "    ms1_take_top_n = 50_000,\n",
    "    dataset_dirs=[\n",
    "    '/media/hd01/CCSPred/HELA-GRAD20/M210115_007_Slot1-1_1_856.d/',\n",
    "    '/media/hd01/CCSPred/HELA-GRAD20/M210115_008_Slot1-1_1_857.d/',\n",
    "    '/media/hd01/CCSPred/HELA-GRAD20/M210115_009_Slot1-1_1_858.d/',\n",
    "    ],\n",
    ")\n",
    "\n",
    "# extract precursor and fragment data\n",
    "fragments, ms1_spectra = [], []\n",
    "\n",
    "for k, v in results.items():\n",
    "    fragments.append(v['fragments'])\n",
    "    ms1_spectra.extend(v['ms1_spectra'])\n",
    "\n",
    "# create combined table for scoring\n",
    "fragments = pd.concat(fragments)"
   ]
  },
  {
   "cell_type": "markdown",
   "id": "669baa9f-227e-4d68-b2fe-92d3140b7016",
   "metadata": {},
   "source": [
    "## Score MS2 spectra to get PSMs"
   ]
  },
  {
   "cell_type": "code",
   "execution_count": 6,
   "id": "b49e8360-91b4-4396-a5f0-fb68987d3e23",
   "metadata": {},
   "outputs": [],
   "source": [
    "# scoring\n",
    "psm_collection = scorer.score_collection_psm(\n",
    "    db=indexed_db, \n",
    "    spectrum_collection=fragments['processed_spec'].values,  \n",
    "    num_threads=16,\n",
    ")"
   ]
  },
  {
   "cell_type": "markdown",
   "id": "e1783f35-d57d-4a39-829d-0b126c51e738",
   "metadata": {},
   "source": [
    "## Calculate q-values to identify candidate peptides for LFQ"
   ]
  },
  {
   "cell_type": "code",
   "execution_count": 7,
   "id": "0d9361d5-386c-4bdd-b8bc-50db2350a199",
   "metadata": {},
   "outputs": [],
   "source": [
    "from sagepy.core.fdr import sage_fdr_psm\n",
    "sage_fdr_psm(indexed_db=indexed_db, psm_collection=psm_collection)"
   ]
  },
  {
   "cell_type": "markdown",
   "id": "6fe12535-deaf-473b-9e5d-dde24bb61e68",
   "metadata": {},
   "source": [
    "## Perform retention time alignment "
   ]
  },
  {
   "cell_type": "code",
   "execution_count": 8,
   "id": "23239dfb-43a4-4dcf-a143-919bb35d7e33",
   "metadata": {},
   "outputs": [],
   "source": [
    "from sagepy.core.ml.retention_alignment import global_alignment_psm\n",
    "\n",
    "# align rts, creates alignments to be used for scoring and adds aligned rt values to PSMs\n",
    "alignments = global_alignment_psm(psm_collection)"
   ]
  },
  {
   "cell_type": "markdown",
   "id": "a1aae90e-a6bd-416b-aa86-f21f104fbd4e",
   "metadata": {},
   "source": [
    "## Predict Ion Mobility and Retention Time with SAGE functions"
   ]
  },
  {
   "cell_type": "code",
   "execution_count": 9,
   "id": "a68d21cb-39d2-432d-b072-93dad4a4807d",
   "metadata": {},
   "outputs": [],
   "source": [
    "from sagepy.core.ml.mobility_model import predict_sage_im\n",
    "from sagepy.core.ml.retention_model import predict_sage_rt\n",
    "\n",
    "# predict RT\n",
    "predict_sage_rt(\n",
    "    psm_collection,\n",
    "    indexed_db\n",
    ")\n",
    "\n",
    "# predict IM\n",
    "predict_sage_im(\n",
    "    psm_collection,\n",
    "    indexed_db\n",
    ")"
   ]
  },
  {
   "cell_type": "markdown",
   "id": "682065d8-9b6e-4d73-a02d-b4d9b019ebf1",
   "metadata": {},
   "source": [
    "## Build a FeatureMap for LFQ"
   ]
  },
  {
   "cell_type": "code",
   "execution_count": 18,
   "id": "a3dfc9f2-da98-4cf9-8568-11712ca300c0",
   "metadata": {},
   "outputs": [],
   "source": [
    "from sagepy.core.lfq import build_feature_map_psm, LfqSettings\n",
    "\n",
    "# build a feature map for LFQ\n",
    "feature_map = build_feature_map_psm(\n",
    "    psm_collection,\n",
    "    lfq_settings=LfqSettings(\n",
    "        spectral_angle=0.7,\n",
    "        ppm_tolerance=10.0,\n",
    "        combine_charge_states=False,\n",
    "        mobility_pct_tolerance=5.0,\n",
    "    )\n",
    ")"
   ]
  },
  {
   "cell_type": "markdown",
   "id": "6712056e-e032-4345-a5f2-1957a8dcbd09",
   "metadata": {},
   "source": [
    "## Use the FeatureMap to perform LFQ with ion mobility"
   ]
  },
  {
   "cell_type": "code",
   "execution_count": 19,
   "id": "3f57577f-4d1f-40b7-9a11-46fc252f99ab",
   "metadata": {},
   "outputs": [],
   "source": [
    "# perform quant, return result as pandas table with UNIMOD sequences\n",
    "quant_result = feature_map.quantify_with_mobiliy_pandas(\n",
    "    indexed_db=indexed_db,\n",
    "    ms1=ms1_spectra,\n",
    "    alignments=alignments,\n",
    "    variable_mods=variable_mods,\n",
    "    static_mods=static_mods\n",
    ")"
   ]
  },
  {
   "cell_type": "code",
   "execution_count": 21,
   "id": "7d1cd347-9e8b-40fc-94f0-c582b8ad4035",
   "metadata": {},
   "outputs": [
    {
     "data": {
      "text/html": [
       "<div>\n",
       "<style scoped>\n",
       "    .dataframe tbody tr th:only-of-type {\n",
       "        vertical-align: middle;\n",
       "    }\n",
       "\n",
       "    .dataframe tbody tr th {\n",
       "        vertical-align: top;\n",
       "    }\n",
       "\n",
       "    .dataframe thead th {\n",
       "        text-align: right;\n",
       "    }\n",
       "</style>\n",
       "<table border=\"1\" class=\"dataframe\">\n",
       "  <thead>\n",
       "    <tr style=\"text-align: right;\">\n",
       "      <th></th>\n",
       "      <th>peptide</th>\n",
       "      <th>proteins</th>\n",
       "      <th>charge</th>\n",
       "      <th>decoy</th>\n",
       "      <th>rt_bin</th>\n",
       "      <th>spectral_angle</th>\n",
       "      <th>score</th>\n",
       "      <th>q_value</th>\n",
       "      <th>intensity_file_0</th>\n",
       "      <th>intensity_file_1</th>\n",
       "      <th>intensity_file_2</th>\n",
       "    </tr>\n",
       "  </thead>\n",
       "  <tbody>\n",
       "    <tr>\n",
       "      <th>5564</th>\n",
       "      <td>DAEAWFTSR</td>\n",
       "      <td>[sp|P08727|K1C19_HUMAN]</td>\n",
       "      <td>2</td>\n",
       "      <td>False</td>\n",
       "      <td>43</td>\n",
       "      <td>0.963205</td>\n",
       "      <td>0.850238</td>\n",
       "      <td>0.000921</td>\n",
       "      <td>32112.736079</td>\n",
       "      <td>33704.756558</td>\n",
       "      <td>35689.702364</td>\n",
       "    </tr>\n",
       "    <tr>\n",
       "      <th>15105</th>\n",
       "      <td>TPAQYDASELK</td>\n",
       "      <td>[sp|A6NMY6|AXA2L_HUMAN, sp|P07355|ANXA2_HUMAN]</td>\n",
       "      <td>2</td>\n",
       "      <td>False</td>\n",
       "      <td>53</td>\n",
       "      <td>0.969954</td>\n",
       "      <td>0.894100</td>\n",
       "      <td>0.000921</td>\n",
       "      <td>241574.471596</td>\n",
       "      <td>211796.792515</td>\n",
       "      <td>244538.940875</td>\n",
       "    </tr>\n",
       "    <tr>\n",
       "      <th>21749</th>\n",
       "      <td>EQEVAEER</td>\n",
       "      <td>[sp|Q8IVT2|MISP_HUMAN]</td>\n",
       "      <td>2</td>\n",
       "      <td>False</td>\n",
       "      <td>45</td>\n",
       "      <td>0.955002</td>\n",
       "      <td>0.841226</td>\n",
       "      <td>0.000921</td>\n",
       "      <td>73841.480374</td>\n",
       "      <td>57009.646197</td>\n",
       "      <td>63134.516658</td>\n",
       "    </tr>\n",
       "    <tr>\n",
       "      <th>15106</th>\n",
       "      <td>LALQALTEK</td>\n",
       "      <td>[sp|Q07065|CKAP4_HUMAN]</td>\n",
       "      <td>2</td>\n",
       "      <td>False</td>\n",
       "      <td>51</td>\n",
       "      <td>0.968392</td>\n",
       "      <td>0.902106</td>\n",
       "      <td>0.000921</td>\n",
       "      <td>33555.404210</td>\n",
       "      <td>38059.882247</td>\n",
       "      <td>35882.497778</td>\n",
       "    </tr>\n",
       "    <tr>\n",
       "      <th>15107</th>\n",
       "      <td>SPILVATAVAAR</td>\n",
       "      <td>[sp|O00571|DDX3X_HUMAN, sp|O15523|DDX3Y_HUMAN]</td>\n",
       "      <td>2</td>\n",
       "      <td>False</td>\n",
       "      <td>57</td>\n",
       "      <td>0.964565</td>\n",
       "      <td>0.853845</td>\n",
       "      <td>0.000921</td>\n",
       "      <td>57401.723576</td>\n",
       "      <td>53743.135956</td>\n",
       "      <td>68007.080916</td>\n",
       "    </tr>\n",
       "  </tbody>\n",
       "</table>\n",
       "</div>"
      ],
      "text/plain": [
       "            peptide                                        proteins  charge  \\\n",
       "5564      DAEAWFTSR                         [sp|P08727|K1C19_HUMAN]       2   \n",
       "15105   TPAQYDASELK  [sp|A6NMY6|AXA2L_HUMAN, sp|P07355|ANXA2_HUMAN]       2   \n",
       "21749      EQEVAEER                          [sp|Q8IVT2|MISP_HUMAN]       2   \n",
       "15106     LALQALTEK                         [sp|Q07065|CKAP4_HUMAN]       2   \n",
       "15107  SPILVATAVAAR  [sp|O00571|DDX3X_HUMAN, sp|O15523|DDX3Y_HUMAN]       2   \n",
       "\n",
       "       decoy  rt_bin  spectral_angle     score   q_value  intensity_file_0  \\\n",
       "5564   False      43        0.963205  0.850238  0.000921      32112.736079   \n",
       "15105  False      53        0.969954  0.894100  0.000921     241574.471596   \n",
       "21749  False      45        0.955002  0.841226  0.000921      73841.480374   \n",
       "15106  False      51        0.968392  0.902106  0.000921      33555.404210   \n",
       "15107  False      57        0.964565  0.853845  0.000921      57401.723576   \n",
       "\n",
       "       intensity_file_1  intensity_file_2  \n",
       "5564       33704.756558      35689.702364  \n",
       "15105     211796.792515     244538.940875  \n",
       "21749      57009.646197      63134.516658  \n",
       "15106      38059.882247      35882.497778  \n",
       "15107      53743.135956      68007.080916  "
      ]
     },
     "execution_count": 21,
     "metadata": {},
     "output_type": "execute_result"
    }
   ],
   "source": [
    "quant_result.head(5)"
   ]
  }
 ],
 "metadata": {
  "kernelspec": {
   "display_name": "Python 3 (ipykernel)",
   "language": "python",
   "name": "python3"
  },
  "language_info": {
   "codemirror_mode": {
    "name": "ipython",
    "version": 3
   },
   "file_extension": ".py",
   "mimetype": "text/x-python",
   "name": "python",
   "nbconvert_exporter": "python",
   "pygments_lexer": "ipython3",
   "version": "3.11.12"
  }
 },
 "nbformat": 4,
 "nbformat_minor": 5
}
