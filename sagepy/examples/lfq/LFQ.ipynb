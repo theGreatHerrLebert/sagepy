{
 "cells": [
  {
   "cell_type": "markdown",
   "id": "f401174e-8b31-471c-a35d-7d720c5f544d",
   "metadata": {},
   "source": [
    "## dda-PASEF LFQ\n",
    "\n",
    "SAGE now supports a new LFQ mode that incorporates the ion mobility dimension of timsTOF data. This notebook serves as a starting point for exposing the logic of this LFQ method to Python, using the imspy package for raw data extraction and preprocessing. Currently, the LFQ algorithm does not yet perform as expected—likely due to a configuration issue, incorrect passing of precursor spectra, a misunderstanding of certain fields, or another unidentified cause. Nevertheless, I include it here in the hope that it can serve as a starting point for those interested in using it and willing to engage in some debugging."
   ]
  },
  {
   "cell_type": "markdown",
   "id": "df3135ed-fa88-49b1-a565-38cd6d9e5c2e",
   "metadata": {},
   "source": [
    "## Create A SAGE database"
   ]
  },
  {
   "cell_type": "code",
   "execution_count": 2,
   "id": "47fbc1ee-44d0-45e9-92be-1e913b316cc1",
   "metadata": {},
   "outputs": [],
   "source": [
    "import numpy as np\n",
    "import pandas as pd\n",
    "\n",
    "from sagepy.utility import create_sage_database\n",
    "\n",
    "indexed_db = create_sage_database(\n",
    "    fasta_path='/media/hd02/data/fasta/hela/plain/hela.fasta'\n",
    ")"
   ]
  },
  {
   "cell_type": "markdown",
   "id": "67167d72-0d1a-4ca6-98b4-f5dc1e7909d3",
   "metadata": {},
   "source": [
    "## Create a Scorer"
   ]
  },
  {
   "cell_type": "code",
   "execution_count": 3,
   "id": "feaa0265-9f10-4a58-84d2-e9e9bca83799",
   "metadata": {},
   "outputs": [],
   "source": [
    "from sagepy.core import Scorer, Tolerance\n",
    "\n",
    "static_mods = {\n",
    "    \"C\": \"[UNIMOD:4]\"\n",
    "}\n",
    "\n",
    "variable_mods = {\n",
    "    \"M\": [\"[UNIMOD:1]\", \"[UNIMOD:35]\"], \n",
    "    \"[\": [\"[UNIMOD:1]\"]\n",
    "}\n",
    "\n",
    "# create a scorer object that can be used to search a database given a collection of spectra to search\n",
    "scorer = Scorer(\n",
    "    precursor_tolerance=Tolerance(ppm=(-15.0, 15.0)),\n",
    "    fragment_tolerance=Tolerance(ppm=(-10.0, 10.0)),\n",
    "    report_psms=5,\n",
    "    min_matched_peaks=5,\n",
    "    annotate_matches=True,\n",
    "    variable_mods=variable_mods,\n",
    "    static_mods=static_mods\n",
    ")"
   ]
  },
  {
   "cell_type": "markdown",
   "id": "18d2516c-0333-47a8-a217-9c8df518217b",
   "metadata": {},
   "source": [
    "## Extract MS1 and MS2 data from raw TDF files for PSM generation (MS2) and scoring (MS1)"
   ]
  },
  {
   "cell_type": "code",
   "execution_count": 4,
   "id": "58b5b2a0-4fab-476e-bea9-24a0c9178658",
   "metadata": {},
   "outputs": [
    {
     "name": "stderr",
     "output_type": "stream",
     "text": [
      "2025-05-08 17:50:03.182907: E external/local_xla/xla/stream_executor/cuda/cuda_dnn.cc:9261] Unable to register cuDNN factory: Attempting to register factory for plugin cuDNN when one has already been registered\n",
      "2025-05-08 17:50:03.182940: E external/local_xla/xla/stream_executor/cuda/cuda_fft.cc:607] Unable to register cuFFT factory: Attempting to register factory for plugin cuFFT when one has already been registered\n",
      "2025-05-08 17:50:03.184122: E external/local_xla/xla/stream_executor/cuda/cuda_blas.cc:1515] Unable to register cuBLAS factory: Attempting to register factory for plugin cuBLAS when one has already been registered\n",
      "2025-05-08 17:50:03.189398: I tensorflow/core/platform/cpu_feature_guard.cc:182] This TensorFlow binary is optimized to use available CPU instructions in performance-critical operations.\n",
      "To enable the following instructions: AVX2 FMA, in other operations, rebuild TensorFlow with the appropriate compiler flags.\n",
      "2025-05-08 17:50:03.794444: W tensorflow/compiler/tf2tensorrt/utils/py_utils.cc:38] TF-TRT Warning: Could not find TensorRT\n",
      "/home/administrator/Documents/promotion/rust/rustims/imspy/imspy/timstof/data.py:82: UserWarning: Warning: SDK free data read is still experimental, expect higher mass errors and inverse mobility errors.\n",
      "  warnings.warn(\"Warning: SDK free data read is still experimental, expect higher mass errors and inverse \"\n",
      "/home/administrator/Documents/promotion/rust/rustims/imspy/imspy/timstof/data.py:82: UserWarning: Warning: SDK free data read is still experimental, expect higher mass errors and inverse mobility errors.\n",
      "  warnings.warn(\"Warning: SDK free data read is still experimental, expect higher mass errors and inverse \"\n",
      "/home/administrator/Documents/promotion/rust/rustims/imspy/imspy/timstof/data.py:82: UserWarning: Warning: SDK free data read is still experimental, expect higher mass errors and inverse mobility errors.\n",
      "  warnings.warn(\"Warning: SDK free data read is still experimental, expect higher mass errors and inverse \"\n"
     ]
    }
   ],
   "source": [
    "from helpers import process_timstof_datasets, sage_quant_map_to_pandas\n",
    "\n",
    "# helper function for easier readbility\n",
    "results = process_timstof_datasets([\n",
    "    '/media/hd01/CCSPred/HELA-GRAD20/M210115_007_Slot1-1_1_856.d/',\n",
    "    '/media/hd01/CCSPred/HELA-GRAD20/M210115_008_Slot1-1_1_857.d/',\n",
    "    '/media/hd01/CCSPred/HELA-GRAD20/M210115_009_Slot1-1_1_858.d/'\n",
    "])\n",
    "\n",
    "# extract precursor and fragment data\n",
    "fragments, ms1_spectra = [], []\n",
    "\n",
    "for k, v in results.items():\n",
    "    fragments.append(v['fragments'])\n",
    "    ms1_spectra.extend(v['ms1_spectra'])\n",
    "\n",
    "fragments = pd.concat(fragments)"
   ]
  },
  {
   "cell_type": "code",
   "execution_count": 16,
   "id": "0c3b3d7e-6c24-489f-aa00-e6b1a8eb47c2",
   "metadata": {},
   "outputs": [
    {
     "data": {
      "text/html": [
       "<div>\n",
       "<style scoped>\n",
       "    .dataframe tbody tr th:only-of-type {\n",
       "        vertical-align: middle;\n",
       "    }\n",
       "\n",
       "    .dataframe tbody tr th {\n",
       "        vertical-align: top;\n",
       "    }\n",
       "\n",
       "    .dataframe thead th {\n",
       "        text-align: right;\n",
       "    }\n",
       "</style>\n",
       "<table border=\"1\" class=\"dataframe\">\n",
       "  <thead>\n",
       "    <tr style=\"text-align: right;\">\n",
       "      <th></th>\n",
       "      <th>frame_id</th>\n",
       "      <th>time</th>\n",
       "      <th>precursor_id</th>\n",
       "      <th>raw_data</th>\n",
       "      <th>scan_begin</th>\n",
       "      <th>scan_end</th>\n",
       "      <th>isolation_mz</th>\n",
       "      <th>isolation_width</th>\n",
       "      <th>collision_energy</th>\n",
       "      <th>largest_peak_mz</th>\n",
       "      <th>average_mz</th>\n",
       "      <th>monoisotopic_mz</th>\n",
       "      <th>charge</th>\n",
       "      <th>average_scan</th>\n",
       "      <th>intensity</th>\n",
       "      <th>parent_id</th>\n",
       "      <th>mobility</th>\n",
       "      <th>spec_id</th>\n",
       "      <th>sage_precursor</th>\n",
       "      <th>processed_spec</th>\n",
       "    </tr>\n",
       "    <tr>\n",
       "      <th>precursor_id</th>\n",
       "      <th></th>\n",
       "      <th></th>\n",
       "      <th></th>\n",
       "      <th></th>\n",
       "      <th></th>\n",
       "      <th></th>\n",
       "      <th></th>\n",
       "      <th></th>\n",
       "      <th></th>\n",
       "      <th></th>\n",
       "      <th></th>\n",
       "      <th></th>\n",
       "      <th></th>\n",
       "      <th></th>\n",
       "      <th></th>\n",
       "      <th></th>\n",
       "      <th></th>\n",
       "      <th></th>\n",
       "      <th></th>\n",
       "      <th></th>\n",
       "    </tr>\n",
       "  </thead>\n",
       "  <tbody>\n",
       "    <tr>\n",
       "      <th>1</th>\n",
       "      <td>2</td>\n",
       "      <td>0.015169</td>\n",
       "      <td>1</td>\n",
       "      <td>TimsFrame(frame_id=2, ms_type=FragmentDda, num...</td>\n",
       "      <td>380</td>\n",
       "      <td>405</td>\n",
       "      <td>922.488951</td>\n",
       "      <td>3.0</td>\n",
       "      <td>43.179661</td>\n",
       "      <td>922.008681</td>\n",
       "      <td>922.488951</td>\n",
       "      <td>922.008681</td>\n",
       "      <td>1.0</td>\n",
       "      <td>392.013754</td>\n",
       "      <td>7083.0</td>\n",
       "      <td>1</td>\n",
       "      <td>1.178431</td>\n",
       "      <td>2-1-M210115_007_Slot1-1_1_856.d</td>\n",
       "      <td>Precursor(mz: 922.01, intensity: 7083.0, charg...</td>\n",
       "      <td>ProcessedSpectrum(level: 2, id: 2-1-M210115_00...</td>\n",
       "    </tr>\n",
       "    <tr>\n",
       "      <th>2</th>\n",
       "      <td>2</td>\n",
       "      <td>0.015169</td>\n",
       "      <td>2</td>\n",
       "      <td>TimsFrame(frame_id=2, ms_type=FragmentDda, num...</td>\n",
       "      <td>675</td>\n",
       "      <td>700</td>\n",
       "      <td>575.083637</td>\n",
       "      <td>2.0</td>\n",
       "      <td>30.179661</td>\n",
       "      <td>574.795630</td>\n",
       "      <td>575.083637</td>\n",
       "      <td>574.795630</td>\n",
       "      <td>2.0</td>\n",
       "      <td>687.640148</td>\n",
       "      <td>4056.0</td>\n",
       "      <td>1</td>\n",
       "      <td>0.850545</td>\n",
       "      <td>2-2-M210115_007_Slot1-1_1_856.d</td>\n",
       "      <td>Precursor(mz: 574.8, intensity: 4056.0, charge...</td>\n",
       "      <td>ProcessedSpectrum(level: 2, id: 2-2-M210115_00...</td>\n",
       "    </tr>\n",
       "    <tr>\n",
       "      <th>3</th>\n",
       "      <td>2</td>\n",
       "      <td>0.015169</td>\n",
       "      <td>3</td>\n",
       "      <td>TimsFrame(frame_id=2, ms_type=FragmentDda, num...</td>\n",
       "      <td>750</td>\n",
       "      <td>775</td>\n",
       "      <td>394.334250</td>\n",
       "      <td>2.0</td>\n",
       "      <td>26.874576</td>\n",
       "      <td>394.191085</td>\n",
       "      <td>394.334250</td>\n",
       "      <td>394.191085</td>\n",
       "      <td>2.0</td>\n",
       "      <td>762.585696</td>\n",
       "      <td>7117.0</td>\n",
       "      <td>1</td>\n",
       "      <td>0.774292</td>\n",
       "      <td>2-3-M210115_007_Slot1-1_1_856.d</td>\n",
       "      <td>Precursor(mz: 394.19, intensity: 7117.0, charg...</td>\n",
       "      <td>ProcessedSpectrum(level: 2, id: 2-3-M210115_00...</td>\n",
       "    </tr>\n",
       "  </tbody>\n",
       "</table>\n",
       "</div>"
      ],
      "text/plain": [
       "              frame_id      time  precursor_id  \\\n",
       "precursor_id                                     \n",
       "1                    2  0.015169             1   \n",
       "2                    2  0.015169             2   \n",
       "3                    2  0.015169             3   \n",
       "\n",
       "                                                       raw_data  scan_begin  \\\n",
       "precursor_id                                                                  \n",
       "1             TimsFrame(frame_id=2, ms_type=FragmentDda, num...         380   \n",
       "2             TimsFrame(frame_id=2, ms_type=FragmentDda, num...         675   \n",
       "3             TimsFrame(frame_id=2, ms_type=FragmentDda, num...         750   \n",
       "\n",
       "              scan_end  isolation_mz  isolation_width  collision_energy  \\\n",
       "precursor_id                                                              \n",
       "1                  405    922.488951              3.0         43.179661   \n",
       "2                  700    575.083637              2.0         30.179661   \n",
       "3                  775    394.334250              2.0         26.874576   \n",
       "\n",
       "              largest_peak_mz  average_mz  monoisotopic_mz  charge  \\\n",
       "precursor_id                                                         \n",
       "1                  922.008681  922.488951       922.008681     1.0   \n",
       "2                  574.795630  575.083637       574.795630     2.0   \n",
       "3                  394.191085  394.334250       394.191085     2.0   \n",
       "\n",
       "              average_scan  intensity  parent_id  mobility  \\\n",
       "precursor_id                                                 \n",
       "1               392.013754     7083.0          1  1.178431   \n",
       "2               687.640148     4056.0          1  0.850545   \n",
       "3               762.585696     7117.0          1  0.774292   \n",
       "\n",
       "                                      spec_id  \\\n",
       "precursor_id                                    \n",
       "1             2-1-M210115_007_Slot1-1_1_856.d   \n",
       "2             2-2-M210115_007_Slot1-1_1_856.d   \n",
       "3             2-3-M210115_007_Slot1-1_1_856.d   \n",
       "\n",
       "                                                 sage_precursor  \\\n",
       "precursor_id                                                      \n",
       "1             Precursor(mz: 922.01, intensity: 7083.0, charg...   \n",
       "2             Precursor(mz: 574.8, intensity: 4056.0, charge...   \n",
       "3             Precursor(mz: 394.19, intensity: 7117.0, charg...   \n",
       "\n",
       "                                                 processed_spec  \n",
       "precursor_id                                                     \n",
       "1             ProcessedSpectrum(level: 2, id: 2-1-M210115_00...  \n",
       "2             ProcessedSpectrum(level: 2, id: 2-2-M210115_00...  \n",
       "3             ProcessedSpectrum(level: 2, id: 2-3-M210115_00...  "
      ]
     },
     "execution_count": 16,
     "metadata": {},
     "output_type": "execute_result"
    }
   ],
   "source": [
    "# display results\n",
    "fragments.head(3)"
   ]
  },
  {
   "cell_type": "markdown",
   "id": "669baa9f-227e-4d68-b2fe-92d3140b7016",
   "metadata": {},
   "source": [
    "## Score MS2 spectra to get PSMs"
   ]
  },
  {
   "cell_type": "code",
   "execution_count": 6,
   "id": "b49e8360-91b4-4396-a5f0-fb68987d3e23",
   "metadata": {},
   "outputs": [],
   "source": [
    "# scoring\n",
    "psm_collection = scorer.score_collection_psm(\n",
    "    db=indexed_db, \n",
    "    spectrum_collection=fragments['processed_spec'].values,  \n",
    "    num_threads=16,\n",
    ")"
   ]
  },
  {
   "cell_type": "markdown",
   "id": "a03b3775-2186-4e61-8f75-dfacb1b5bca7",
   "metadata": {},
   "source": [
    "## Calculate q-values to identify candidate peptides for LFQ"
   ]
  },
  {
   "cell_type": "code",
   "execution_count": 7,
   "id": "0d9361d5-386c-4bdd-b8bc-50db2350a199",
   "metadata": {},
   "outputs": [],
   "source": [
    "from sagepy.core.fdr import sage_fdr_psm\n",
    "sage_fdr_psm(indexed_db=indexed_db, psm_collection=psm_collection)"
   ]
  },
  {
   "cell_type": "markdown",
   "id": "b796ddc4-1fd9-48a1-92c4-91421d236d10",
   "metadata": {},
   "source": [
    "## Perform retention time alignment "
   ]
  },
  {
   "cell_type": "code",
   "execution_count": 8,
   "id": "07283349-2d95-4b93-a763-c906899108b4",
   "metadata": {},
   "outputs": [],
   "source": [
    "from sagepy.core.ml.retention_alignment import global_alignment_psm\n",
    "alignments = global_alignment_psm(psm_collection)"
   ]
  },
  {
   "cell_type": "markdown",
   "id": "682065d8-9b6e-4d73-a02d-b4d9b019ebf1",
   "metadata": {},
   "source": [
    "## Build a FeatureMap for LFQ"
   ]
  },
  {
   "cell_type": "code",
   "execution_count": 9,
   "id": "a3dfc9f2-da98-4cf9-8568-11712ca300c0",
   "metadata": {},
   "outputs": [],
   "source": [
    "from sagepy.core.lfq import build_feature_map_psm, LfqSettings\n",
    "\n",
    "feature_map = build_feature_map_psm(\n",
    "    psm_collection,\n",
    "    lfq_settings=LfqSettings(\n",
    "        spectral_angle=0.7,\n",
    "        ppm_tolerance=5.0,\n",
    "        combine_charge_states=True,\n",
    "        mobility_pct_tolerance=1.0\n",
    "    )\n",
    ")"
   ]
  },
  {
   "cell_type": "markdown",
   "id": "6712056e-e032-4345-a5f2-1957a8dcbd09",
   "metadata": {},
   "source": [
    "## Use the FeatureMap to perform LFQ with ion mobility"
   ]
  },
  {
   "cell_type": "code",
   "execution_count": 17,
   "id": "3f57577f-4d1f-40b7-9a11-46fc252f99ab",
   "metadata": {},
   "outputs": [],
   "source": [
    "quant_result = feature_map.quantify_with_mobility(\n",
    "    indexed_db=indexed_db,\n",
    "    ms1=ms1_spectra,\n",
    "    alignments=alignments\n",
    ")"
   ]
  },
  {
   "cell_type": "markdown",
   "id": "1c5cf4d9-8528-4fd9-ad50-b9995b69016d",
   "metadata": {},
   "source": [
    "## Create pandas table and inspect results of LFQ"
   ]
  },
  {
   "cell_type": "code",
   "execution_count": 19,
   "id": "4a4aa37a-ca19-475c-848d-3e1c7035725c",
   "metadata": {},
   "outputs": [
    {
     "data": {
      "text/html": [
       "<div>\n",
       "<style scoped>\n",
       "    .dataframe tbody tr th:only-of-type {\n",
       "        vertical-align: middle;\n",
       "    }\n",
       "\n",
       "    .dataframe tbody tr th {\n",
       "        vertical-align: top;\n",
       "    }\n",
       "\n",
       "    .dataframe thead th {\n",
       "        text-align: right;\n",
       "    }\n",
       "</style>\n",
       "<table border=\"1\" class=\"dataframe\">\n",
       "  <thead>\n",
       "    <tr style=\"text-align: right;\">\n",
       "      <th></th>\n",
       "      <th>peptide_id</th>\n",
       "      <th>charge</th>\n",
       "      <th>decoy</th>\n",
       "      <th>rt_bin</th>\n",
       "      <th>spectral_angle</th>\n",
       "      <th>score</th>\n",
       "      <th>q_value</th>\n",
       "      <th>intensity_file_0</th>\n",
       "      <th>intensity_file_1</th>\n",
       "      <th>intensity_file_2</th>\n",
       "    </tr>\n",
       "  </thead>\n",
       "  <tbody>\n",
       "    <tr>\n",
       "      <th>0</th>\n",
       "      <td>391099</td>\n",
       "      <td>None</td>\n",
       "      <td>False</td>\n",
       "      <td>27</td>\n",
       "      <td>0.764648</td>\n",
       "      <td>0.364817</td>\n",
       "      <td>0.285714</td>\n",
       "      <td>3292.932904</td>\n",
       "      <td>1891.167035</td>\n",
       "      <td>2739.750089</td>\n",
       "    </tr>\n",
       "    <tr>\n",
       "      <th>1</th>\n",
       "      <td>59715</td>\n",
       "      <td>None</td>\n",
       "      <td>False</td>\n",
       "      <td>51</td>\n",
       "      <td>0.745282</td>\n",
       "      <td>0.411213</td>\n",
       "      <td>0.285714</td>\n",
       "      <td>133.659514</td>\n",
       "      <td>7.070516</td>\n",
       "      <td>111.486366</td>\n",
       "    </tr>\n",
       "    <tr>\n",
       "      <th>2</th>\n",
       "      <td>988843</td>\n",
       "      <td>None</td>\n",
       "      <td>False</td>\n",
       "      <td>81</td>\n",
       "      <td>0.855199</td>\n",
       "      <td>0.454496</td>\n",
       "      <td>0.285714</td>\n",
       "      <td>3073.365193</td>\n",
       "      <td>3324.818342</td>\n",
       "      <td>1973.800182</td>\n",
       "    </tr>\n",
       "  </tbody>\n",
       "</table>\n",
       "</div>"
      ],
      "text/plain": [
       "   peptide_id charge  decoy  rt_bin  spectral_angle     score   q_value  \\\n",
       "0      391099   None  False      27        0.764648  0.364817  0.285714   \n",
       "1       59715   None  False      51        0.745282  0.411213  0.285714   \n",
       "2      988843   None  False      81        0.855199  0.454496  0.285714   \n",
       "\n",
       "   intensity_file_0  intensity_file_1  intensity_file_2  \n",
       "0       3292.932904       1891.167035       2739.750089  \n",
       "1        133.659514          7.070516        111.486366  \n",
       "2       3073.365193       3324.818342       1973.800182  "
      ]
     },
     "execution_count": 19,
     "metadata": {},
     "output_type": "execute_result"
    }
   ],
   "source": [
    "quant_table = sage_quant_map_to_pandas(quant_result)\n",
    "quant_table.head(3)"
   ]
  }
 ],
 "metadata": {
  "kernelspec": {
   "display_name": "Python 3 (ipykernel)",
   "language": "python",
   "name": "python3"
  },
  "language_info": {
   "codemirror_mode": {
    "name": "ipython",
    "version": 3
   },
   "file_extension": ".py",
   "mimetype": "text/x-python",
   "name": "python",
   "nbconvert_exporter": "python",
   "pygments_lexer": "ipython3",
   "version": "3.11.12"
  }
 },
 "nbformat": 4,
 "nbformat_minor": 5
}
