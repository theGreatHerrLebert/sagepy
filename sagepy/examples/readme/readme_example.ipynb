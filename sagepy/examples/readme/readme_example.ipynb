{
 "cells": [
  {
   "cell_type": "code",
   "execution_count": 1,
   "id": "07961419-6045-407b-badd-732af003583b",
   "metadata": {},
   "outputs": [],
   "source": [
    "import numpy as np\n",
    "from sagepy.core import EnzymeBuilder, SageSearchConfiguration\n",
    "\n",
    "# configure a trypsin-like digestor of fasta files\n",
    "enzyme_builder = EnzymeBuilder(\n",
    "    missed_cleavages=2, \n",
    "    min_len=5, \n",
    "    max_len=50, \n",
    "    cleave_at='KR', \n",
    "    restrict='P', \n",
    "    c_terminal=True,\n",
    ")\n",
    "\n",
    "# UPDATE: Modification handling is simplified, using canonical UNIMOD notation\n",
    "static_mods = {\"C\": \"[UNIMOD:4]\"}  # static cysteine modification\n",
    "variable_mods = {\"M\": [\"[UNIMOD:35]\"]}\n",
    "\n",
    "with open('/media/hd02/data/fasta/hela/plain/uniprotkb_proteome_UP000005640_AND_revi_2024_05_21.fasta', 'r') as infile:\n",
    "    fasta = infile.read()\n",
    "\n",
    "# set-up a config for a sage-database\n",
    "sage_config = SageSearchConfiguration(\n",
    "    fasta=fasta,\n",
    "    static_mods=static_mods,\n",
    "    variable_mods=variable_mods,\n",
    "    enzyme_builder=enzyme_builder,\n",
    "    generate_decoys=True,\n",
    "    bucket_size=int(np.power(2, 14))\n",
    ")\n",
    "\n",
    "# generate the database for searching against\n",
    "indexed_db = sage_config.generate_indexed_database()"
   ]
  },
  {
   "cell_type": "code",
   "execution_count": 2,
   "id": "7003b8b7-1342-44be-ab0a-4a5e9131388f",
   "metadata": {},
   "outputs": [],
   "source": [
    "import numpy as np\n",
    "from sagepy.core import Precursor, RawSpectrum, ProcessedSpectrum, SpectrumProcessor, Tolerance, Scorer, Representation\n",
    "\n",
    "### Example search of a sage database\n",
    "precursor = Precursor(\n",
    "    charge=2,\n",
    "    mz=506.77,\n",
    ")\n",
    "\n",
    "intensity = np.array([ 202.,  170.,  205.,  152., 1069.,  595.,  198.,  805.,  187.,\n",
    "        194.,  197.,  169.,  196.,  209.,  638.,  372.,  235.,  399.,\n",
    "        194.,  185.,  181.,  170.,  407.,  150.,  157.,  175.,  273.,\n",
    "       1135.,  881.,  337.,  311.,  243.,  310.,  153.,  162.,  210.,\n",
    "        277.,  206.,  189.,  259.,  658.,  383.,  166.,  169.,  219.,\n",
    "        186.,  221.,  193.,  367.,  283.,  237.,  157.,  372., 1276.,\n",
    "       1618., 1102.,  404.,  232.,  456.,  765.,  507.,  223.,  258.,\n",
    "        402.,  187.,  158.,  153.,  304.,  218.,  223.,  156., 1605.,\n",
    "       1165., 1062.,  434.,  208.,  155.,  197.,  221.,  697.,  397.,\n",
    "        180.,  195.,  512.,  252.,  367.,  305.,  335.,  175.,  174.,\n",
    "        296.,  212.], dtype=np.float32)\n",
    "\n",
    "mz = np.array([272.16873692, 356.16844797, 406.71079396, 406.71396814,\n",
    "       406.71714233, 406.72031653, 407.21246768, 407.21564382,\n",
    "       407.21881996, 407.22199612, 407.7144506 , 407.71762869,\n",
    "       488.27537883, 488.28581266, 499.29228981, 499.29580676,\n",
    "       499.29932372, 499.30284069, 506.75478369, 507.26157767,\n",
    "       541.26272227, 553.29188809, 577.30432041, 577.30810217,\n",
    "       595.32672633, 597.2907525 , 603.27568881, 614.32036769,\n",
    "       614.32426881, 614.32816995, 615.3272682 , 615.33117252,\n",
    "       616.33108578, 617.33572156, 636.30924838, 637.30619081,\n",
    "       637.31016425, 665.36284673, 666.36197292, 674.35335834,\n",
    "       674.35744565, 674.36153297, 675.35511968, 675.36330039,\n",
    "       679.3531909 , 680.35044702, 680.35455247, 687.36822726,\n",
    "       687.37648041, 688.37547678, 697.3616813 , 700.3617026 ,\n",
    "       715.36157366, 715.36578342, 715.36999319, 715.37420297,\n",
    "       715.37841277, 715.38262258, 716.36384605, 716.37227148,\n",
    "       716.38069696, 717.37103577, 725.35228543, 749.39291293,\n",
    "       749.39722166, 750.38424802, 786.44692356, 786.45575152,\n",
    "       787.4492132 , 787.45804678, 795.39284711, 812.41777208,\n",
    "       812.42225834, 812.42674462, 812.4312309 , 812.44020351,\n",
    "       813.40504794, 813.41851494, 813.42300396, 813.427493  ,\n",
    "       813.43198205, 813.44544927, 814.43784098, 828.42202737,\n",
    "       828.4265576 , 851.43464868, 899.45327427, 899.46271517,\n",
    "       912.45278821, 913.44673363, 915.45053417, 915.46482091], dtype=np.float32)\n",
    "\n",
    "raw_spectrum = RawSpectrum(\n",
    "    file_id=1,\n",
    "    spec_id='DEMO-SPEC',\n",
    "    total_ion_current=12667.0,\n",
    "    precursors=[precursor],\n",
    "    mz=mz,\n",
    "    intensity=intensity,\n",
    ")\n",
    "\n",
    "spec_processor = SpectrumProcessor(take_top_n=75)\n",
    "query = spec_processor.process(raw_spectrum)"
   ]
  },
  {
   "cell_type": "code",
   "execution_count": 3,
   "id": "f340808b-6126-4f91-a39a-654b63acfb21",
   "metadata": {},
   "outputs": [],
   "source": [
    "from sagepy.core import Scorer\n",
    "\n",
    "scorer = Scorer(report_psms=2, min_matched_peaks=5, variable_mods=variable_mods, static_mods=static_mods)\n",
    "results = scorer.score(db=indexed_db, spectrum=query)"
   ]
  },
  {
   "cell_type": "code",
   "execution_count": 5,
   "id": "8b468c19-c1e7-43a1-9797-a336646d3acd",
   "metadata": {},
   "outputs": [
    {
     "data": {
      "text/plain": [
       "[Feature(idx: PeptideIx(1014528), psm_id: 3, peptide_len: 9, spec_id: DEMO-SPEC, file_id: 1, rank: 1, label: 1, exp. mass: 1011.5254516601562, cal. mass: 1011.5347900390625, charge: 2, retention time: 0.0, aligned rt: 0.0, predicted rt: 0.0, delta rt model: 0.9990000128746033, delta mass: -1995.037109375, isotope error: 2.006700038909912, average ppm: 5.889466285705566, hyperscore: 15.020833685116404, delta_next: 0.0, delta_best: 0.0, matched peaks: 5, longest b: 0,longest y: 4, longest y pct: 0.4444444477558136, missed cleavages: 0, matched intensity pct: 14.81151294708252, scored candidates: 9359, poisson: -2.1735888459925277, discriminant score: 0.0, posterior error: 1.0, spectrum q: 1.0, peptide q: 1.0, protein q: 1.0, ms2 intensity: 4652.0), fragments: Fragments(charges: [1, 1, 1, 1, 1], ion_types: [IonType(Y), IonType(Y), IonType(Y), IonType(Y), IonType(Y)], fragment_ordinals: [8, 7, 6, 5, 4], intensities: [335.0, 1165.0, 1618.0, 1135.0, 399.0], mz_calculated: [899.4580078125, 812.4259643554688, 715.3732299804688, 614.3255615234375, 499.2986145019531], mz_experimental: [899.4627075195312, 812.4222412109375, 715.3699951171875, 614.3203735351562, 499.3028259277344])),\n",
       " Feature(idx: PeptideIx(1014528), psm_id: 4, peptide_len: 9, spec_id: DEMO-SPEC, file_id: 1, rank: 2, label: 1, exp. mass: 1011.5254516601562, cal. mass: 1011.5347900390625, charge: 2, retention time: 0.0, aligned rt: 0.0, predicted rt: 0.0, delta rt model: 0.9990000128746033, delta mass: -1001.641845703125, isotope error: 1.003350019454956, average ppm: 5.889466285705566, hyperscore: 15.020833685116404, delta_next: 0.0, delta_best: 0.0, matched peaks: 5, longest b: 0,longest y: 4, longest y pct: 0.4444444477558136, missed cleavages: 0, matched intensity pct: 14.81151294708252, scored candidates: 9359, poisson: -2.1735888459925277, discriminant score: 0.0, posterior error: 1.0, spectrum q: 1.0, peptide q: 1.0, protein q: 1.0, ms2 intensity: 4652.0), fragments: Fragments(charges: [1, 1, 1, 1, 1], ion_types: [IonType(Y), IonType(Y), IonType(Y), IonType(Y), IonType(Y)], fragment_ordinals: [8, 7, 6, 5, 4], intensities: [335.0, 1165.0, 1618.0, 1135.0, 399.0], mz_calculated: [899.4580078125, 812.4259643554688, 715.3732299804688, 614.3255615234375, 499.2986145019531], mz_experimental: [899.4627075195312, 812.4222412109375, 715.3699951171875, 614.3203735351562, 499.3028259277344]))]"
      ]
     },
     "execution_count": 5,
     "metadata": {},
     "output_type": "execute_result"
    }
   ],
   "source": [
    "result_psm = scorer.score(db=indexed_db,spectrum=query)\n",
    "result_psm"
   ]
  }
 ],
 "metadata": {
  "kernelspec": {
   "display_name": "Python 3 (ipykernel)",
   "language": "python",
   "name": "python3"
  },
  "language_info": {
   "codemirror_mode": {
    "name": "ipython",
    "version": 3
   },
   "file_extension": ".py",
   "mimetype": "text/x-python",
   "name": "python",
   "nbconvert_exporter": "python",
   "pygments_lexer": "ipython3",
   "version": "3.11.11"
  }
 },
 "nbformat": 4,
 "nbformat_minor": 5
}
